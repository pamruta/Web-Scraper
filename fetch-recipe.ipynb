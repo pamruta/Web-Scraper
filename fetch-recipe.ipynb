{
 "cells": [
  {
   "cell_type": "markdown",
   "metadata": {},
   "source": [
    "    Web Scraper iPython Notebook\n",
    "    Description: Search and Retrieve Online Recipes from Epicurous.com\n",
    "    Author: Amruta Purandare\n",
    "    Date Created: March 26, 2017\n",
    "    Last Updated: March 26, 2017"
   ]
  },
  {
   "cell_type": "code",
   "execution_count": 1,
   "metadata": {
    "collapsed": true
   },
   "outputs": [],
   "source": [
    "# fetch recipe links from search results page\n",
    "def get_recipe_links(html_page):\n",
    "    recipe_links = []\n",
    "    recipe_titles = []\n",
    "    from bs4 import BeautifulSoup\n",
    "    soup = BeautifulSoup(html_page, 'html.parser')\n",
    "    # get recipe-cards from <article> tag with class = recipe-content-card\n",
    "    for recipe_card in soup.find_all(\"article\", {\"class\": \"recipe-content-card\"}):\n",
    "        # get recipe links and titles from recipe-card\n",
    "        for link in recipe_card.find_all(\"a\", {\"class\": \"show-quick-view\"}):\n",
    "            recipe_links.append(\"http://www.epicurious.com\" + link.get('href'))\n",
    "            recipe_titles.append(link.get('title'))\n",
    "    return recipe_titles, recipe_links"
   ]
  },
  {
   "cell_type": "code",
   "execution_count": 2,
   "metadata": {
    "collapsed": true
   },
   "outputs": [],
   "source": [
    "# search recipe on Epicurious.com\n",
    "def search_recipe(query):\n",
    "    import urllib2\n",
    "    import re\n",
    "    query = re.sub(r'\\s+', \"%20\", query)\n",
    "    site_url = \"http://www.epicurious.com/search/\" + query\n",
    "    html_page = urllib2.urlopen(site_url).read()\n",
    "    # get recipe links and titles from search results\n",
    "    (recipe_titles, recipe_links) = get_recipe_links(html_page)\n",
    "    return recipe_titles, recipe_links"
   ]
  },
  {
   "cell_type": "code",
   "execution_count": 3,
   "metadata": {
    "collapsed": false
   },
   "outputs": [
    {
     "name": "stdout",
     "output_type": "stream",
     "text": [
      "Title:  BA's Best Carrot Cake\n",
      "URL:  http://www.epicurious.com/recipes/food/views/best-carrot-cake\n",
      "Title:  Food Processor Carrot Cake\n",
      "URL:  http://www.epicurious.com/recipes/food/views/food-processor-carrot-cake-56390081\n",
      "Title:  Carrot Cake Smoothie\n",
      "URL:  http://www.epicurious.com/recipes/food/views/carrot-cake-smoothie-51257340\n",
      "Title:  Carrot Cake\n",
      "URL:  http://www.epicurious.com/recipes/food/views/carrot-cake-51186440\n",
      "Title:  Carrot Cake with Cream Cheese Frosting\n",
      "URL:  http://www.epicurious.com/recipes/food/views/carrot-cake-with-cream-cheese-frosting-51191810\n",
      "Title:  Carrot Cake with Cream Cheese Frosting\n",
      "URL:  http://www.epicurious.com/recipes/food/views/carrot-cake-with-cream-cheese-frosting-51172410\n",
      "Title:  Carrot Cake\n",
      "URL:  http://www.epicurious.com/recipes/food/views/carrot-cake-388613\n",
      "Title:  Milk Chocolate Semifreddo with Star Anise Carrot Cake\n",
      "URL:  http://www.epicurious.com/recipes/food/views/milk-chocolate-semifreddo-with-star-anise-carrot-cake-361390\n",
      "Title:  Carrot Cake with Lime and Mascarpone Topping\n",
      "URL:  http://www.epicurious.com/recipes/food/views/carrot-cake-with-lime-and-mascarpone-topping-358574\n",
      "Title:  Carrot Cake\n",
      "URL:  http://www.epicurious.com/recipes/food/views/carrot-cake-355918\n",
      "Title:  Carrot Cake with Cream Cheese-Lemon Zest Frosting\n",
      "URL:  http://www.epicurious.com/recipes/food/views/carrot-cake-with-cream-cheese-lemon-zest-frosting-353969\n",
      "Title:  Carrot Cake\n",
      "URL:  http://www.epicurious.com/recipes/food/views/carrot-cake-240904\n",
      "Title:  Singapore \"Carrot Cake\"\n",
      "URL:  http://www.epicurious.com/recipes/food/views/singapore-carrot-cake-238408\n"
     ]
    }
   ],
   "source": [
    "(recipe_titles, recipe_links) = search_recipe(\"carrot cake\")\n",
    "for k in range(len(recipe_titles)):\n",
    "    print \"Title: \", recipe_titles[k]\n",
    "    print \"URL: \", recipe_links[k]"
   ]
  },
  {
   "cell_type": "code",
   "execution_count": 4,
   "metadata": {
    "collapsed": true
   },
   "outputs": [],
   "source": [
    "# extract recipe title\n",
    "def get_title(html_page):\n",
    "    from bs4 import BeautifulSoup\n",
    "    soup = BeautifulSoup(html_page, 'html.parser')\n",
    "    # extracting h1 item with itemprop = name\n",
    "    for item in soup.find_all(\"h1\", {\"itemprop\" : \"name\"}):\n",
    "        title = item.get_text()\n",
    "    return title"
   ]
  },
  {
   "cell_type": "code",
   "execution_count": 5,
   "metadata": {
    "collapsed": true
   },
   "outputs": [],
   "source": [
    "# extract ingredients from recipe\n",
    "def get_ingredients(html_page):\n",
    "    ingredients = []\n",
    "    from bs4 import BeautifulSoup\n",
    "    soup = BeautifulSoup(html_page, 'html.parser')\n",
    "    # extracting list items with class = ingredient\n",
    "    for item in soup.find_all(\"li\", {\"class\" : \"ingredient\"}):\n",
    "        ingredients.append(item.get_text())\n",
    "    return ingredients"
   ]
  },
  {
   "cell_type": "code",
   "execution_count": 6,
   "metadata": {
    "collapsed": true
   },
   "outputs": [],
   "source": [
    "# extract cooking instructions from recipe\n",
    "def get_instructions(html_page):\n",
    "    instructions = []\n",
    "    from bs4 import BeautifulSoup\n",
    "    import re\n",
    "    soup = BeautifulSoup(html_page, 'html.parser')\n",
    "    # extracting list items with class = preparation-step\n",
    "    for item in soup.find_all(\"li\", {\"class\" : \"preparation-step\"}):\n",
    "        text = re.sub(r'^[\\s\\t]+', '', item.get_text())\n",
    "        instructions.append(text)\n",
    "    return instructions"
   ]
  },
  {
   "cell_type": "code",
   "execution_count": 7,
   "metadata": {
    "collapsed": true
   },
   "outputs": [],
   "source": [
    "# fetch recipe\n",
    "def fetch_recipe(page_url):\n",
    "    import urllib2\n",
    "    html_page = urllib2.urlopen(page_url).read()\n",
    "    # get recipe content: [title, ingredients, cooking directions] from html page\n",
    "    title = get_title(html_page)\n",
    "    ingredients = get_ingredients(html_page)\n",
    "    instructions = get_instructions(html_page)\n",
    "    return title, ingredients, instructions"
   ]
  },
  {
   "cell_type": "code",
   "execution_count": 8,
   "metadata": {
    "collapsed": false
   },
   "outputs": [
    {
     "name": "stdout",
     "output_type": "stream",
     "text": [
      "http://www.epicurious.com/recipes/food/views/best-carrot-cake\n"
     ]
    }
   ],
   "source": [
    "print recipe_links[0]"
   ]
  },
  {
   "cell_type": "code",
   "execution_count": 9,
   "metadata": {
    "collapsed": false
   },
   "outputs": [
    {
     "name": "stdout",
     "output_type": "stream",
     "text": [
      "Title:  BA's Best Carrot Cake \n",
      "\n",
      "\n",
      "Ingredients: \n",
      "\tNonstick vegetable oil spray\n",
      "\t1/2 cup golden raisins (optional)\n",
      "\t3 tablespoons dark rum (optional)\n",
      "\t1 cup chopped walnuts\n",
      "\t1 pound carrots, peeled, coarsely grated\n",
      "\t1 cup buttermilk, room temperature\n",
      "\t2 1/2 cups all-purpose flour\n",
      "\t2 teaspoons ground cinnamon\n",
      "\t2 teaspoons ground ginger\n",
      "\t1/2 teaspoon freshly grated nutmeg\n",
      "\t2 teaspoons baking powder\n",
      "\t1 1/2 teaspoons kosher salt\n",
      "\t3/4 teaspoon baking soda\n",
      "\t4 large eggs, room temperature\n",
      "\t1 cup granulated sugar\n",
      "\t3/4 cup (packed) dark brown sugar\n",
      "\t2 teaspoons vanilla extract\n",
      "\t3/4 cup vegetable oil\n",
      "\t12 ounces cream cheese, room temperature\n",
      "\t3/4 cup (1 1/2 sticks) unsalted butter, room temperature\n",
      "\t1 teaspoon vanilla extract\n",
      "\tGenerous pinch of kosher salt\n",
      "\t4 cups powdered sugar\n",
      "\tCandied Carrot Coins\n",
      "\n",
      "\n",
      "Instructions: \n",
      "\t[ 1 ] Preheat oven to 350°F. Lightly coat two 9\"-diameter cake pans with nonstick spray. Line bottoms with parchment paper rounds; lightly coat rounds with nonstick spray. If using raisins and rum, heat together in a small saucepan over low just until warm, about 2 minutes. Remove from heat and let sit until liquid is absorbed and raisins are plump, 15–20 minutes.\n",
      "                                    \n",
      "\t[ 2 ] Meanwhile, toast walnuts on a rimmed baking sheet, tossing once, until golden brown, 8–10 minutes; let cool. Combine carrots and buttermilk in a medium bowl.\n",
      "                                    \n",
      "\t[ 3 ] Whisk flour, cinnamon, ginger, nutmeg, baking powder, salt, and baking soda in a large bowl. Using an electric mixer on high speed, beat eggs, granulated sugar, brown sugar, and vanilla extract until pale and thick, about 4 minutes. Reduce speed to medium-low and gradually stream in oil. Add dry ingredients in 3 additions, alternating with carrot mixture in 2 additions, beginning and ending with dry ingredients; mix until smooth. Fold in raisins, if using, and walnuts with a rubber spatula. Scrape batter into prepared pans.\n",
      "                                    \n",
      "\t[ 4 ] Bake cakes, rotating pans halfway through, until a tester inserted into the center comes out clean, 35–45 minutes. Transfer pans to a wire rack and let cakes cool 10 minutes. Run a knife around sides of cakes and invert onto wire rack; remove parchment. Let cool completely.\n",
      "                                    \n",
      "\t[ 5 ] Using an electric mixer on high speed, beat cream cheese and butter in a medium bowl until smooth, about 1 minute. Beat in vanilla extract and salt. Reduce speed to low and gradually mix in powdered sugar. Increase speed to high and beat frosting until light and fluffy, about 2 minutes.\n",
      "                                    \n",
      "\t[ 6 ] Place 1 cake, domed side down, on a platter. Spread 3/4 cup frosting evenly over top. Place remaining cake, domed side down, on top. Spread top and sides with 1 1/4 cups frosting and chill 30 minutes to let frosting set. Spread remaining frosting over top and sides, swirling decoratively. Top with  Candied Carrot Coins, if desired.\n",
      "                                    \n"
     ]
    }
   ],
   "source": [
    "(title, ingredients, instructions) = fetch_recipe(recipe_links[0])\n",
    "print \"Title: \", title\n",
    "print \"\\n\"\n",
    "print \"Ingredients: \"\n",
    "for item in ingredients:\n",
    "    print \"\\t\", item\n",
    "print \"\\n\"\n",
    "print \"Instructions: \"\n",
    "for k in range(len(instructions)):\n",
    "    print \"\\t[\", k+1, \"]\", instructions[k] "
   ]
  }
 ],
 "metadata": {
  "kernelspec": {
   "display_name": "Python 2",
   "language": "python",
   "name": "python2"
  },
  "language_info": {
   "codemirror_mode": {
    "name": "ipython",
    "version": 2
   },
   "file_extension": ".py",
   "mimetype": "text/x-python",
   "name": "python",
   "nbconvert_exporter": "python",
   "pygments_lexer": "ipython2",
   "version": "2.7.13"
  }
 },
 "nbformat": 4,
 "nbformat_minor": 2
}
