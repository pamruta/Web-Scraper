{
 "cells": [
  {
   "cell_type": "markdown",
   "metadata": {},
   "source": [
    "        Title: Web Scraper for Twitter\n",
    "        Author: Amruta Purandare\n",
    "        Date Created: Apr 2, 2017\n",
    "        Last Updated: Apr 2, 2017"
   ]
  },
  {
   "cell_type": "code",
   "execution_count": 1,
   "metadata": {
    "collapsed": true
   },
   "outputs": [],
   "source": [
    "# fetches tweets for a given twitter user-name\n",
    "def fetch_twitter(user_name):\n",
    "    import urllib2\n",
    "    web_url = \"http://twitter.com/\" + user_name\n",
    "    html_page = urllib2.urlopen(web_url).read()\n",
    "\n",
    "    # extract tweets from html\n",
    "    tweets = get_tweets(html_page)\n",
    "    return tweets"
   ]
  },
  {
   "cell_type": "code",
   "execution_count": 2,
   "metadata": {
    "collapsed": false
   },
   "outputs": [],
   "source": [
    "# extracts tweets from twitter user's html-page\n",
    "def get_tweets(html_page):\n",
    "    \n",
    "    output = []\n",
    "    \n",
    "    # parse html-page using beautiful-soup\n",
    "    from bs4 import BeautifulSoup\n",
    "    soup = BeautifulSoup(html_page, 'html.parser')\n",
    "    \n",
    "    import re\n",
    "    for div in soup.find_all(\"div\", {\"class\" : \"js-tweet-text-container\"}):\n",
    "        # get tweet content\n",
    "        for para in div.find_all(\"p\"):\n",
    "            text = para.get_text()\n",
    "            # removing twit-pic urls\n",
    "            text = re.sub(r'pic.twitter.com\\S+', '', text)\n",
    "            text = re.sub(r'http', ' http', text)\n",
    "            output.append(text)\n",
    "            \n",
    "    return output"
   ]
  },
  {
   "cell_type": "code",
   "execution_count": 3,
   "metadata": {
    "collapsed": false
   },
   "outputs": [
    {
     "name": "stdout",
     "output_type": "stream",
     "text": [
      "\t\t\t\t\t Tweets by Google \n",
      "\n",
      "Meet #GoogleGnome. The smart yard is finally here →  http://goo.gl/c2lC27 \n",
      "\n",
      "We're bringing clear skies for everyone, every day with Machine Learning  \n",
      "\n",
      "Introducing Google Wind:  https://youtu.be/QAwL0O5nXe0 \n",
      "\n",
      "What your pets REALLY dream about might be this... \n",
      " http://goo.gl/kFo0L2 \n",
      "\n",
      "#AprilFools is no joke. #GoogleAssistant \n",
      "\n",
      "#GoogleGnome can answer any outdoor question. Ask it what to feed your marigolds, or if your marigolds can feed you.  http://g.co/GoogleGnome \n",
      "\n",
      "She is her own Chompion. \n",
      "\n",
      "Show us your @officialpacman score with #MsPacMaps. \n",
      "\n",
      "What's better than a sunny yard? A punny yard. Liven up yours with #GoogleGnome.  http://g.co/GoogleGnome \n",
      "\n",
      "HBD to Belgian-American fashion designer Liz Claiborne, the first woman to found a company that landed on the Fortune 500 list. #WHM2017 \n",
      "\n",
      "This year's #Doodle4Google contest brought oodles of inspiring Doodles! See how our finalists envision the future →  https://goo.gl/6OBsYZ \n",
      "\n",
      "Meet Sapna, a Mumbai-based Googler and travel fanatic who encourages women to invest in self development. #WHM2017 https://cards.twitter.com/cards/c85st/3we7h … \n",
      "\n",
      "\"Is April the Giraffe a hoax?\" \n",
      "\n",
      "See what other questions were among this week's trending searches →  https://goo.gl/tSEQ1y \n",
      "\n",
      " Let's hear it for Sarah Harrison, whose vision of \"a peaceful future\" is our #Doodle4Google contest winner!  https://goo.gl/yUaRxl \n",
      "\n",
      "For #TransVisibilityDay, we're celebrating the trailblazing trans women and men working for trans-equality and visibility. \n",
      "\n",
      "With #GoogleAssistant's help to find the perfect photo, your friends are going to lava your latest #TBT post.  \n",
      "\n",
      "This week's #teampixel round-up is here. Take a photo walk from a pristine desert to a lively nightclub. https://twitter.com/i/moments/847562526485225472 … \n",
      "\n",
      "It's (almost) time to reveal our #Doodle4Google National Winner! Check back tomorrow to meet the young artist and see the winning Doodle.  \n",
      "\n",
      "See how Israeli students helped improve #GoogleTranslate Hebrew and Arabic translations through learning English →  https://goo.gl/ditLN5 \n",
      "\n",
      "For #WHM2017 we're celebrating the powerful, dynamic and creative women of Google and how they inspire us every day. https://cards.twitter.com/cards/c85st/3vtxd … \n",
      "\n",
      "Get from “exit” to “출구“ in just one tap with Word Lens, now available in Korean on the #GoogleTranslate app →  https://goo.gl/M91oLA \n",
      "\n",
      "Picnic in your favorite corner of the park? No problem. \n",
      "\n",
      "Get together with location sharing on #GoogleMaps.  http://g.co/sharelocation \n",
      "\n"
     ]
    }
   ],
   "source": [
    "tweets = fetch_twitter(\"Google\")\n",
    "print \"\\t\\t\\t\\t\\t Tweets by Google \\n\"\n",
    "for text in tweets:\n",
    "    print text, \"\\n\""
   ]
  }
 ],
 "metadata": {
  "kernelspec": {
   "display_name": "Python 2",
   "language": "python",
   "name": "python2"
  },
  "language_info": {
   "codemirror_mode": {
    "name": "ipython",
    "version": 2
   },
   "file_extension": ".py",
   "mimetype": "text/x-python",
   "name": "python",
   "nbconvert_exporter": "python",
   "pygments_lexer": "ipython2",
   "version": "2.7.13"
  }
 },
 "nbformat": 4,
 "nbformat_minor": 2
}
